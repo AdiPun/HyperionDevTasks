{
  "cells": [
    {
      "attachments": {},
      "cell_type": "markdown",
      "metadata": {
        "id": "4g4GIdGykuJu"
      },
      "source": [
        "## Simple Linear Regression\n",
        "\n",
        "The objective of this notebook is to show you how to apply the algorithm you learnt about in the main task. To start, we will import packages that will help us manipulate data and leverage the easy-to-use machine learning tools from the scikit-learn library. Then, we will load our data into a pandas DataFrame. "
      ]
    },
    {
      "cell_type": "code",
      "execution_count": null,
      "metadata": {
        "id": "4OwSIQ_qLsXA"
      },
      "outputs": [],
      "source": [
        "import numpy as np\n",
        "import pandas as pd\n",
        "import matplotlib.pyplot as plt\n",
        "from sklearn.linear_model import LinearRegression\n",
        "%matplotlib inline\n"
      ]
    },
    {
      "cell_type": "code",
      "execution_count": null,
      "metadata": {
        "id": "z3Z4dQBomziZ",
        "outputId": "fc6fa430-092f-4b5d-eb7b-6da7e4a8d0be"
      },
      "outputs": [],
      "source": [
        "# Import the data\n",
        "our_data = pd.read_csv(\"Salary_Data.csv\")\n",
        "our_data.head()"
      ]
    },
    {
      "attachments": {},
      "cell_type": "markdown",
      "metadata": {
        "id": "wcLw-FN4Fz6Y"
      },
      "source": [
        "A linear model describes a linear relationship between an input and output variable. We therefore need to make sure that the problem we are looking to model with Linear Regression indeed has a continuous input and output variable with a linear relationship. \n",
        "\n",
        "Below we have a scatter plot of the salary data. We can observe that the more years of experience an employee has, the higher their salary. \n",
        "This is a linear relationship that can be estimated with a simple linear relationship. The independent variable (years of experience) is on the x-axis and the dependent variable (salary) is on the y-axis."
      ]
    },
    {
      "cell_type": "code",
      "execution_count": 13,
      "metadata": {
        "id": "sLvz395NGgcf",
        "outputId": "784a0097-77f1-40c0-ca62-776350a1c7bb"
      },
      "outputs": [
        {
          "data": {
            "text/plain": [
              "Text(0, 0.5, 'Sardine')"
            ]
          },
          "execution_count": 13,
          "metadata": {},
          "output_type": "execute_result"
        },
        {
          "data": {
            "image/png": "[encoded data removed]",
            "text/plain": [
              "<Figure size 640x480 with 1 Axes>"
            ]
          },
          "metadata": {},
          "output_type": "display_data"
        }
      ],
      "source": [
        "# The iloc function allows use to select rows from the dataframe for plotting.  \n",
        "x = our_data.iloc[:,:1].values\n",
        "y = our_data.iloc[:,-1].values\n",
        "plt.scatter(x,y,color = 'b')\n",
        "plt.xlabel('Years of Experience')\n",
        "plt.ylabel('Salary')\n",
        "plt.show()"
      ]
    },
    {
      "cell_type": "markdown",
      "metadata": {
        "id": "L0Jl9foLMFlj"
      },
      "source": [
        "For comparison, our problem might have no continuous input variables, or the impact of the input on the output variable may not be linear, as in this example:"
      ]
    },
    {
      "cell_type": "code",
      "execution_count": null,
      "metadata": {
        "id": "1Q1WX3KRkuJ1",
        "outputId": "181a82b6-a2b1-4897-fea0-db926c301dca"
      },
      "outputs": [],
      "source": [
        "# Plot an example of non-linear data\n",
        "data_notlin = pd.read_csv('Mall_Customers.csv',index_col=0)\n",
        "\n",
        "x_notlin = data_notlin.loc[:,'Annual Income (k$)'].values\n",
        "y_notlin = data_notlin.loc[:,'Spending Score (1-100)'].values\n",
        "\n",
        "plt.scatter(x_notlin,y_notlin,color = 'b')\n",
        "plt.xlabel('Annual Income (k$)')\n",
        "plt.ylabel('Spending Score (1-100)')\n",
        "plt.show()\n"
      ]
    },
    {
      "cell_type": "markdown",
      "metadata": {
        "id": "9BNV79xVMmWH"
      },
      "source": [
        "Now that we have determined a linear relationship between salary and years of experience, we will fit a simple linear regression model using sklearn."
      ]
    },
    {
      "cell_type": "code",
      "execution_count": null,
      "metadata": {
        "id": "EdXkF5MpkuKu",
        "outputId": "4ec61029-d713-415c-e327-885946e44c73"
      },
      "outputs": [],
      "source": [
        "# Fit the model\n",
        "salary_model = LinearRegression()\n",
        "salary_model.fit(x,y)"
      ]
    },
    {
      "cell_type": "markdown",
      "metadata": {
        "id": "CcFtzhaXkuKy"
      },
      "source": [
        "What does is mean that we have fitted a model? It means we can make predictions along a line by inputting any x value. We can see how similar those predictions are to the x values for which we know the corresponding y values. Below these predictions are shown in red, and the observed values are in blue. "
      ]
    },
    {
      "cell_type": "code",
      "execution_count": null,
      "metadata": {
        "id": "jqJCOO3NkuKz",
        "outputId": "cbc7fa59-6676-4c73-be8c-d4dde8919e00"
      },
      "outputs": [],
      "source": [
        "# Plot the data and model\n",
        "y_pred = salary_model.predict(x)\n",
        "\n",
        "plt.scatter(x,y,color = 'b')\n",
        "plt.plot(x,y_pred,color = 'r')\n",
        "plt.xlabel('Years of Experience')\n",
        "plt.ylabel('Salary')\n",
        "plt.show()"
      ]
    },
    {
      "cell_type": "markdown",
      "metadata": {
        "id": "nKjw8-pfM3rV"
      },
      "source": [
        "If we are happy with this model, we can to use it to determine how much to pay an employee who has been at the company longer than any other previous employee. In other words, we will extrapolate the linear model to predict a salary outside of the known data."
      ]
    },
    {
      "cell_type": "code",
      "execution_count": null,
      "metadata": {
        "id": "PcYzqba2NEpi",
        "outputId": "135bb872-3528-46cc-818a-204b954a1b70"
      },
      "outputs": [],
      "source": [
        "# Predict an unknown value\n",
        "unk_x = [[12]] \n",
        "\n",
        "x_pred = np.append(x, unk_x).reshape(-1,1)\n",
        "y_pred = salary_model.predict(x_pred)\n",
        "\n",
        "plt.scatter(x,y,color = 'b')\n",
        "plt.plot(x_pred,y_pred,color = 'r')\n",
        "plt.xlabel('Years of Experience')\n",
        "plt.ylabel('Salary')\n",
        "plt.show()\n",
        "\n",
        "print(\"Employee salary should be:\", salary_model.predict(unk_x))"
      ]
    }
  ],
  "metadata": {
    "colab": {
      "provenance": []
    },
    "kernelspec": {
      "display_name": "Python 3",
      "language": "python",
      "name": "python3"
    },
    "language_info": {
      "codemirror_mode": {
        "name": "ipython",
        "version": 3
      },
      "file_extension": ".py",
      "mimetype": "text/x-python",
      "name": "python",
      "nbconvert_exporter": "python",
      "pygments_lexer": "ipython3",
      "version": "3.10.8"
    },
    "vscode": {
      "interpreter": {
        "hash": "909775f4c1c1337c10dd26386ad7fdd8e68c24cfe611dcacc1a198b9e09c3e1f"
      }
    }
  },
  "nbformat": 4,
  "nbformat_minor": 0
}
